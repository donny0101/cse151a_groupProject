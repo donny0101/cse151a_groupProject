{
  "nbformat": 4,
  "nbformat_minor": 0,
  "metadata": {
    "colab": {
      "provenance": []
    },
    "kernelspec": {
      "name": "python3",
      "display_name": "Python 3"
    },
    "language_info": {
      "name": "python"
    }
  },
  "cells": [
    {
      "cell_type": "markdown",
      "source": [
        "## Load metadata"
      ],
      "metadata": {
        "id": "DbMZyp3CQ3BY"
      }
    },
    {
      "cell_type": "code",
      "execution_count": 31,
      "metadata": {
        "id": "G1lOM6AAPQd8"
      },
      "outputs": [],
      "source": [
        "import pandas as pd\n",
        "\n",
        "metadata_path = '/content/drive/MyDrive/cse151a_groupProject/isic-2024-challenge/train-metadata.csv'\n",
        "isic_2020_path = '/content/drive/MyDrive/cse151a_groupProject/CSE_151A_Project_Data /ISIC_2020/ISIC2020_Training_labels.csv'\n",
        "isic_2019_path = '/content/drive/MyDrive/cse151a_groupProject/CSE_151A_Project_Data /ISIC_2019/ISIC2019_Training_labels.csv'\n",
        "isic_2018_path = '/content/drive/MyDrive/cse151a_groupProject/CSE_151A_Project_Data /ISIC_2018/ISIC2018_Training_labels.csv'\n",
        "isic_2017_path = '/content/drive/MyDrive/cse151a_groupProject/CSE_151A_Project_Data /ISIC_2017/ISIC2017_Training_labels.csv'\n",
        "isic_2016_path = '/content/drive/MyDrive/cse151a_groupProject/CSE_151A_Project_Data /ISIC_2016/ISBI2016_Training_labels.csv'\n",
        "\n",
        "metadata = pd.read_csv(metadata_path)\n",
        "isic_2020 = pd.read_csv(isic_2020_path)\n",
        "isic_2019 = pd.read_csv(isic_2019_path)\n",
        "isic_2018 = pd.read_csv(isic_2018_path)\n",
        "isic_2017 = pd.read_csv(isic_2017_path)\n",
        "isic_2016 = pd.read_csv(isic_2016_path)\n",
        "\n",
        "isic_2020 = isic_2020[['image_name', 'target']]\n",
        "isic_2020.rename(columns={'image_name': 'isic_id'}, inplace=True)\n",
        "\n",
        "isic_2019 = isic_2019[['image', 'MEL']]\n",
        "isic_2019.rename(columns={'image': 'isic_id', 'MEL': 'target'}, inplace=True)\n",
        "\n",
        "isic_2018 = isic_2018[['image', 'MEL']]\n",
        "isic_2018.rename(columns={'image': 'isic_id', 'MEL': 'target'}, inplace=True)\n",
        "\n",
        "isic_2017 = isic_2017[['image_id', 'melanoma']]\n",
        "isic_2017.rename(columns={'image_id': 'isic_id', 'melanoma': 'target'}, inplace=True)\n",
        "\n",
        "isic_2016.columns = ['isic_id', 'target']\n",
        "isic_2016['target'] = isic_2016['target'].map({'malignant': 1, 'benign': 0})\n",
        "\n",
        "metadata = pd.concat([metadata, isic_2020, isic_2019, isic_2018, isic_2017, isic_2016], ignore_index=True)\n",
        "metadata = metadata[['isic_id', 'tbp_lv_color_std_mean', 'age_approx', 'target']]\n",
        "\n",
        "combined_metadata = pd.concat([metadata, isic_2020, isic_2019, isic_2018, isic_2017, isic_2016], ignore_index=True)\n",
        "\n",
        "combined_metadata['tbp_lv_color_std_mean'].fillna(combined_metadata['tbp_lv_color_std_mean'].mean(), inplace=True)\n",
        "combined_metadata['age_approx'].fillna(combined_metadata['age_approx'].mean(), inplace=True)\n"
      ]
    },
    {
      "cell_type": "code",
      "source": [
        "if 'tbp_lv_color_std_mean' in metadata.columns:\n",
        "    print(\"Column 'tbp_lv_color_std_mean' found\")\n",
        "else:\n",
        "    print(\"Column 'tbp_lv_color_std_mean' not found\")\n",
        "\n",
        "metadata['tbp_lv_color_std_mean'].fillna(metadata['tbp_lv_color_std_mean'].mean(), inplace=True)\n",
        "metadata['age_approx'].fillna(metadata['age_approx'].mean(), inplace=True)"
      ],
      "metadata": {
        "colab": {
          "base_uri": "https://localhost:8080/"
        },
        "id": "umS9BA9mQ5Z-",
        "outputId": "ee41c3bf-7f5d-460a-9910-6ed28ac3c768"
      },
      "execution_count": 32,
      "outputs": [
        {
          "output_type": "stream",
          "name": "stdout",
          "text": [
            "Column 'tbp_lv_color_std_mean' found\n"
          ]
        }
      ]
    },
    {
      "cell_type": "code",
      "source": [
        "import numpy as np\n",
        "import matplotlib.pyplot as plt\n",
        "from sklearn.model_selection import train_test_split\n",
        "from sklearn.preprocessing import PolynomialFeatures, StandardScaler\n",
        "from sklearn.linear_model import LogisticRegression\n",
        "from sklearn.metrics import classification_report, confusion_matrix, log_loss\n",
        "import warnings\n",
        "warnings.filterwarnings(\"ignore\")\n",
        "\n",
        "\n",
        "X = combined_metadata['tbp_lv_color_std_mean'].values.reshape(-1, 1)\n",
        "y = combined_metadata['target'].values\n",
        "\n",
        "X_train, X_test, y_train, y_test = train_test_split(X, y, test_size=0.2, random_state=42)\n",
        "\n",
        "poly = PolynomialFeatures(degree=2)\n",
        "X_poly_train = poly.fit_transform(X_train)\n",
        "X_poly_test = poly.transform(X_test)\n",
        "\n",
        "scaler = StandardScaler()\n",
        "X_poly_train_scaled = scaler.fit_transform(X_poly_train)\n",
        "X_poly_test_scaled = scaler.transform(X_poly_test)\n",
        "\n",
        "logreg = LogisticRegression()\n",
        "logreg.fit(X_poly_train_scaled, y_train)\n",
        "\n",
        "y_pred = logreg.predict(X_poly_test_scaled)\n",
        "y_pred_prob = logreg.predict_proba(X_poly_test_scaled)[:, 1]\n",
        "binary_cross_entropy = log_loss(y_test, y_pred_prob)\n",
        "\n",
        "conf_matrix = confusion_matrix(y_test, y_pred)\n",
        "class_report = classification_report(y_test, y_pred, output_dict=True)\n",
        "\n",
        "print(f\"\\nBinary Cross-Entropy Loss: {binary_cross_entropy}\")"
      ],
      "metadata": {
        "id": "nrZAVAvwSdOD",
        "colab": {
          "base_uri": "https://localhost:8080/"
        },
        "outputId": "4f1fbe44-3e93-431f-ed08-0e7a15ea6464"
      },
      "execution_count": 33,
      "outputs": [
        {
          "output_type": "stream",
          "name": "stdout",
          "text": [
            "\n",
            "Binary Cross-Entropy Loss: 0.11270604269968806\n"
          ]
        }
      ]
    },
    {
      "cell_type": "code",
      "source": [
        "def plot_decision_boundary(X, y, model, title):\n",
        "    x_min, x_max = X[:, 0].min() - 1, X[:, 0].max() + 1\n",
        "    xx = np.linspace(x_min, x_max, 100).reshape(-1, 1)\n",
        "    xx_poly = poly.transform(xx)\n",
        "    xx_poly_scaled = scaler.transform(xx_poly)\n",
        "    Z = model.predict_proba(xx_poly_scaled)[:, 1]\n",
        "\n",
        "    plt.figure(figsize=(10, 6))\n",
        "    plt.scatter(X, y, color='blue', label='Data points')\n",
        "    plt.plot(xx, Z, color='red', label='Logistic regression line')\n",
        "    plt.xlabel('tbp_lv_color_std_mean')\n",
        "    plt.ylabel('Probability')\n",
        "    plt.title(title)\n",
        "    plt.legend()\n",
        "    plt.show()\n",
        "\n",
        "plot_decision_boundary(X_test, y_test, logreg, 'Logistic Regression with Polynomial Features (Test set)')"
      ],
      "metadata": {
        "colab": {
          "base_uri": "https://localhost:8080/",
          "height": 564
        },
        "id": "kxGyvHUhUhJ9",
        "outputId": "87c52c19-7f36-4d6c-ab03-a22b697d5bf1"
      },
      "execution_count": 34,
      "outputs": [
        {
          "output_type": "display_data",
          "data": {
            "text/plain": [
              "<Figure size 1000x600 with 1 Axes>"
            ],
            "image/png": "[encoded data removed]"
          },
          "metadata": {}
        }
      ]
    },
    {
      "cell_type": "code",
      "source": [
        "features = ['tbp_lv_color_std_mean', 'age_approx']\n",
        "target_variable = 'target'\n",
        "\n",
        "X = combined_metadata[features].values\n",
        "y = combined_metadata[target_variable].values\n",
        "\n",
        "X_train, X_test, y_train, y_test = train_test_split(X, y, test_size=0.2, random_state=42)\n",
        "\n",
        "scaler = StandardScaler()\n",
        "X_train_scaled = scaler.fit_transform(X_train)\n",
        "X_test_scaled = scaler.transform(X_test)\n",
        "\n",
        "poly = PolynomialFeatures(degree=2)\n",
        "X_train_poly = poly.fit_transform(X_train_scaled)\n",
        "X_test_poly = poly.transform(X_test_scaled)\n",
        "\n",
        "logreg = LogisticRegression()\n",
        "logreg.fit(X_train_poly, y_train)\n",
        "\n",
        "y_pred = logreg.predict(X_test_poly)\n",
        "y_pred_prob = logreg.predict_proba(X_test_poly)[:, 1]\n",
        "binary_cross_entropy = log_loss(y_test, y_pred_prob)\n",
        "\n",
        "conf_matrix = confusion_matrix(y_test, y_pred)\n",
        "class_report = classification_report(y_test, y_pred, output_dict=True)\n",
        "\n",
        "print(f\"\\nBinary Cross-Entropy Loss: {binary_cross_entropy}\")"
      ],
      "metadata": {
        "colab": {
          "base_uri": "https://localhost:8080/"
        },
        "id": "A7IBTYPWKDhM",
        "outputId": "1044069e-469b-47a7-a9fe-7b4b3b671a6b"
      },
      "execution_count": 35,
      "outputs": [
        {
          "output_type": "stream",
          "name": "stdout",
          "text": [
            "\n",
            "Binary Cross-Entropy Loss: 0.10194112247226822\n"
          ]
        }
      ]
    },
    {
      "cell_type": "code",
      "source": [
        "def plot_3d_decision_boundary(X, y, model, scaler, poly, title):\n",
        "    x_min, x_max = X[:, 0].min() - 1, X[:, 0].max() + 1\n",
        "    y_min, y_max = X[:, 1].min() - 1, X[:, 1].max() + 1\n",
        "    xx, yy = np.meshgrid(np.arange(x_min, x_max, 0.1),\n",
        "                         np.arange(y_min, y_max, 0.1))\n",
        "\n",
        "    grid = np.c_[xx.ravel(), yy.ravel()]\n",
        "    grid_scaled = scaler.transform(grid)\n",
        "    grid_poly = poly.transform(grid_scaled)\n",
        "\n",
        "    Z = model.predict_proba(grid_poly)[:, 1]\n",
        "    Z = Z.reshape(xx.shape)\n",
        "\n",
        "    fig = plt.figure(figsize=(12, 8))\n",
        "    ax = fig.add_subplot(111, projection='3d')\n",
        "    ax.plot_surface(xx, yy, Z, alpha=0.5, rstride=100, cstride=100)\n",
        "    ax.scatter(X[:, 0], X[:, 1], y, c=y, cmap='viridis', edgecolor='k')\n",
        "    ax.set_title(title)\n",
        "    ax.set_xlabel('Feature 1')\n",
        "    ax.set_ylabel('Feature 2')\n",
        "    ax.set_zlabel('Probability')\n",
        "    plt.show()\n",
        "\n",
        "plot_3d_decision_boundary(X_test, y_test, logreg, scaler, poly, 'Logistic Regression with Polynomial Features (Test set)')"
      ],
      "metadata": {
        "id": "dW19eGt8KFf2"
      },
      "execution_count": null,
      "outputs": []
    },
    {
      "cell_type": "markdown",
      "source": [
        "chatgpt usage:\n",
        "\"do you use multiple features or just one feature for polynomial regression\" \"how do i implement logistic regression with polynomial features\" \"how would i make a 3d plot using this code?\"\n",
        "\"this is the plot from the polynomial model. interpret it please\"\\"
      ],
      "metadata": {
        "id": "__u7A_QKZhhx"
      }
    }
  ]
}