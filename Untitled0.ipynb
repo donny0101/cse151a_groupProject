{
  "nbformat": 4,
  "nbformat_minor": 0,
  "metadata": {
    "colab": {
      "provenance": [],
      "machine_shape": "hm",
      "gpuType": "V28"
    },
    "kernelspec": {
      "name": "python3",
      "display_name": "Python 3"
    },
    "language_info": {
      "name": "python"
    },
    "accelerator": "TPU"
  },
  "cells": [
    {
      "cell_type": "markdown",
      "source": [
        "#Getting the data from Kaggle"
      ],
      "metadata": {
        "id": "tCC0WugmH5GJ"
      }
    },
    {
      "cell_type": "code",
      "source": [
        "!pip install kaggle"
      ],
      "metadata": {
        "colab": {
          "base_uri": "https://localhost:8080/"
        },
        "collapsed": true,
        "id": "XzipCCXPCHzl",
        "outputId": "a3b99362-321d-4a62-ab00-dd246d035ac0"
      },
      "execution_count": 2,
      "outputs": [
        {
          "output_type": "stream",
          "name": "stdout",
          "text": [
            "Requirement already satisfied: kaggle in /usr/local/lib/python3.10/dist-packages (1.6.14)\n",
            "Requirement already satisfied: six>=1.10 in /usr/local/lib/python3.10/dist-packages (from kaggle) (1.16.0)\n",
            "Requirement already satisfied: certifi>=2023.7.22 in /usr/local/lib/python3.10/dist-packages (from kaggle) (2024.7.4)\n",
            "Requirement already satisfied: python-dateutil in /usr/local/lib/python3.10/dist-packages (from kaggle) (2.9.0.post0)\n",
            "Requirement already satisfied: requests in /usr/local/lib/python3.10/dist-packages (from kaggle) (2.31.0)\n",
            "Requirement already satisfied: tqdm in /usr/local/lib/python3.10/dist-packages (from kaggle) (4.66.4)\n",
            "Requirement already satisfied: python-slugify in /usr/local/lib/python3.10/dist-packages (from kaggle) (8.0.4)\n",
            "Requirement already satisfied: urllib3 in /usr/local/lib/python3.10/dist-packages (from kaggle) (2.0.7)\n",
            "Requirement already satisfied: bleach in /usr/local/lib/python3.10/dist-packages (from kaggle) (6.1.0)\n",
            "Requirement already satisfied: webencodings in /usr/local/lib/python3.10/dist-packages (from bleach->kaggle) (0.5.1)\n",
            "Requirement already satisfied: text-unidecode>=1.3 in /usr/local/lib/python3.10/dist-packages (from python-slugify->kaggle) (1.3)\n",
            "Requirement already satisfied: charset-normalizer<4,>=2 in /usr/local/lib/python3.10/dist-packages (from requests->kaggle) (3.3.2)\n",
            "Requirement already satisfied: idna<4,>=2.5 in /usr/local/lib/python3.10/dist-packages (from requests->kaggle) (3.7)\n"
          ]
        }
      ]
    },
    {
      "cell_type": "code",
      "source": [
        "from google.colab import drive\n",
        "drive.mount('/content/drive')"
      ],
      "metadata": {
        "colab": {
          "base_uri": "https://localhost:8080/"
        },
        "id": "lB5OuKJTCyMp",
        "outputId": "3d8cdde2-64e8-407a-8dca-79467e2ff25a"
      },
      "execution_count": 3,
      "outputs": [
        {
          "output_type": "stream",
          "name": "stdout",
          "text": [
            "Mounted at /content/drive\n"
          ]
        }
      ]
    },
    {
      "cell_type": "code",
      "source": [
        "!mkdir -p ~/.kaggle\n",
        "!cp /content/drive/MyDrive/kaggle.json ~/.kaggle/\n",
        "!chmod 600 ~/.kaggle/kaggle.json"
      ],
      "metadata": {
        "id": "QEreBffFC1Im"
      },
      "execution_count": 49,
      "outputs": []
    },
    {
      "cell_type": "code",
      "source": [
        "!kaggle competitions download -c isic-2024-challenge\n",
        "\n",
        "!unzip -q isic-2024-challenge.zip"
      ],
      "metadata": {
        "colab": {
          "base_uri": "https://localhost:8080/"
        },
        "id": "qBd56JPgC3Vw",
        "outputId": "a935acf9-17cd-4856-d7d4-12c6df3c52ea"
      },
      "execution_count": 50,
      "outputs": [
        {
          "output_type": "stream",
          "name": "stdout",
          "text": [
            "isic-2024-challenge.zip: Skipping, found more recently modified local copy (use --force to force download)\n"
          ]
        }
      ]
    },
    {
      "cell_type": "markdown",
      "source": [
        "Logisitic regression\n"
      ],
      "metadata": {
        "id": "bKGNl-s9AYMF"
      }
    },
    {
      "cell_type": "code",
      "source": [
        "#!mkdir -p /content/isic-2024-challenge\n",
        "!ls /content/\n",
        "#moved all files to isic-2024-challenge"
      ],
      "metadata": {
        "colab": {
          "base_uri": "https://localhost:8080/"
        },
        "id": "umdehCgvFIGk",
        "outputId": "e3ec0d1f-0932-4411-e4e6-6ce6184c8e11"
      },
      "execution_count": 66,
      "outputs": [
        {
          "output_type": "stream",
          "name": "stdout",
          "text": [
            "drive  isic-2024-challenge\n"
          ]
        }
      ]
    },
    {
      "cell_type": "code",
      "source": [
        "!ls /content/isic-2024-challenge/"
      ],
      "metadata": {
        "colab": {
          "base_uri": "https://localhost:8080/"
        },
        "id": "hf_-WH97Gk00",
        "outputId": "6a0a62fb-992c-46b9-d3ab-6651f4e2214f"
      },
      "execution_count": 67,
      "outputs": [
        {
          "output_type": "stream",
          "name": "stdout",
          "text": [
            "isic-2024-challenge.zip  test-image.hdf5    train-image       train-metadata.csv\n",
            "sample_submission.csv\t test-metadata.csv  train-image.hdf5\n"
          ]
        }
      ]
    },
    {
      "cell_type": "markdown",
      "source": [
        "#Logisitic Regression Model"
      ],
      "metadata": {
        "id": "OuYTHizPH0k-"
      }
    },
    {
      "cell_type": "code",
      "execution_count": 68,
      "metadata": {
        "id": "mCT20O3uAKWO"
      },
      "outputs": [],
      "source": [
        "import h5py\n",
        "import pandas as pd\n",
        "import numpy as np\n",
        "from PIL import Image\n",
        "import io\n",
        "import matplotlib.pyplot as plt\n",
        "from sklearn.model_selection import train_test_split\n",
        "from sklearn.linear_model import LogisticRegression\n",
        "from sklearn.preprocessing import StandardScaler\n",
        "from sklearn.metrics import classification_report\n",
        "\n",
        "metadata_path = '/content/isic-2024-challenge/train-metadata.csv'\n",
        "metadata = pd.read_csv(metadata_path, low_memory=False)"
      ]
    },
    {
      "cell_type": "code",
      "source": [
        "target_0 = metadata[metadata['target'] == 0].sample(n=10000, random_state=42)\n",
        "target_1 = metadata[metadata['target'] == 1].sample(n=393, random_state=42)\n",
        "balanced_metadata = pd.concat([target_0, target_1]).reset_index(drop=True)\n",
        "\n",
        "train_metadata, val_metadata = train_test_split(balanced_metadata, test_size=0.2, random_state=42)"
      ],
      "metadata": {
        "id": "KkZS6bELAN1i"
      },
      "execution_count": 69,
      "outputs": []
    },
    {
      "cell_type": "code",
      "source": [
        "def load_and_flatten_images(metadata, hdf5_path):\n",
        "    with h5py.File(hdf5_path, 'r') as hdf5_file:\n",
        "        features = []\n",
        "        labels = []\n",
        "        for i, row in metadata.iterrows():\n",
        "            isic_id = row['isic_id']\n",
        "            label = row['target']\n",
        "            image = Image.open(io.BytesIO(hdf5_file[isic_id][()]))\n",
        "            image = image.resize((64, 64))  # Reduce image size to 64x64 to speed up processing\n",
        "            image_flat = np.array(image).flatten()  # Flatten the image\n",
        "            features.append(image_flat)\n",
        "            labels.append(label)\n",
        "    return np.array(features), np.array(labels)\n",
        "\n",
        "train_image_path = '/content/isic-2024-challenge/train-image.hdf5'\n",
        "X_train, y_train = load_and_flatten_images(train_metadata, train_image_path)\n",
        "X_val, y_val = load_and_flatten_images(val_metadata, train_image_path)\n",
        "\n",
        "print(\"Training Features Shape:\", X_train.shape)\n",
        "print(\"Training Labels Shape:\", y_train.shape)\n",
        "print(\"Validation Features Shape:\", X_val.shape)\n",
        "print(\"Validation Labels Shape:\", y_val.shape)"
      ],
      "metadata": {
        "colab": {
          "base_uri": "https://localhost:8080/"
        },
        "id": "t-Gw5x8oAP8e",
        "outputId": "8e7fb372-6f3a-4c38-d19b-87dcea86751c"
      },
      "execution_count": 70,
      "outputs": [
        {
          "output_type": "stream",
          "name": "stdout",
          "text": [
            "Training Features Shape: (8314, 12288)\n",
            "Training Labels Shape: (8314,)\n",
            "Validation Features Shape: (2079, 12288)\n",
            "Validation Labels Shape: (2079,)\n"
          ]
        }
      ]
    },
    {
      "cell_type": "code",
      "source": [
        "#Standardizing Data\n",
        "scaler = StandardScaler()\n",
        "X_train = scaler.fit_transform(X_train)\n",
        "X_val = scaler.transform(X_val)"
      ],
      "metadata": {
        "id": "3FIS76HFARuq"
      },
      "execution_count": 71,
      "outputs": []
    },
    {
      "cell_type": "code",
      "source": [
        "#Training Logistic Regression Model\n",
        "logistic_regression_model = LogisticRegression(max_iter=1000)\n",
        "logistic_regression_model.fit(X_train, y_train)"
      ],
      "metadata": {
        "id": "E4OPsgB0AUWm"
      },
      "execution_count": null,
      "outputs": []
    },
    {
      "cell_type": "code",
      "source": [
        "#Model Eval\n",
        "y_pred = logistic_regression_model.predict(X_val)\n",
        "print(\"Classification Report:\")\n",
        "print(classification_report(y_val, y_pred))"
      ],
      "metadata": {
        "id": "0QCj6RmuAVsT"
      },
      "execution_count": null,
      "outputs": []
    },
    {
      "cell_type": "code",
      "source": [
        "def plot_sample_images(metadata, hdf5_path, y_true, y_pred, num_images=10):\n",
        "  with h5py.File(hdf5_path, 'r') as hdf5_file:\n",
        "    fig, axes = plt.subplots(2, num_images // 2, figsize=(15, 6))\n",
        "    axes = axes.flatten()\n",
        "    indices = np.random.choice(len(metadata), num_images, replace=False)\n",
        "    for idx, ax in zip(indices, axes):\n",
        "      isic_id = metadata.iloc[idx]['isic_id']\n",
        "      image = Image.open(io.BytesIO(hdf5_file[isic_id][()]))\n",
        "      image = image.resize((64, 64))\n",
        "      ax.imshow(image)\n",
        "      ax.set_title(f'True: {y_true[idx]}\\nPred: {y_pred[idx]}')\n",
        "      ax.axis('off')\n",
        "    plt.tight_layout()\n",
        "    plt.show()\n",
        "\n",
        "# Plot predictions for some validation images\n",
        "plot_sample_images(val_metadata, train_image_path, y_val, y_pred, num_images=10)"
      ],
      "metadata": {
        "id": "PiobqBwGAW0p"
      },
      "execution_count": null,
      "outputs": []
    }
  ]
}